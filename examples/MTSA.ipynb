{
  "cells": [
    {
      "attachments": {},
      "cell_type": "markdown",
      "metadata": {
        "colab_type": "text",
        "id": "view-in-github"
      },
      "source": [
        "<a href=\"https://colab.research.google.com/github/diegompin/mtsa/blob/feature%2Fv0.0.8/examples/MTSA.ipynb\" target=\"_parent\"><img src=\"https://colab.research.google.com/assets/colab-badge.svg\" alt=\"Open In Colab\"/></a>"
      ]
    },
    {
      "attachments": {},
      "cell_type": "markdown",
      "metadata": {
        "id": "T3S9SKUv2m_f"
      },
      "source": [
        "# MTSA - **M**ultiple **T**ime **S**eries **A**nalysis\n"
      ]
    },
    {
      "attachments": {},
      "cell_type": "markdown",
      "metadata": {
        "id": "BkjlJ89P5Ftn"
      },
      "source": [
        "### Installing MTSA module:"
      ]
    },
    {
      "cell_type": "code",
      "execution_count": null,
      "metadata": {
        "id": "ko7L-5oj2-J4"
      },
      "outputs": [],
      "source": [
        "!pip install mtsa"
      ]
    },
    {
      "attachments": {},
      "cell_type": "markdown",
      "metadata": {
        "id": "WJOI-F8i5Ohp"
      },
      "source": [
        "### Cloning MTSA repository:"
      ]
    },
    {
      "attachments": {},
      "cell_type": "markdown",
      "metadata": {
        "id": "teEVpIfJ5cB-"
      },
      "source": [
        "*Obs: This step is necessary to access the example data.*"
      ]
    },
    {
      "cell_type": "code",
      "execution_count": null,
      "metadata": {
        "id": "X7plkqXx3fFM"
      },
      "outputs": [],
      "source": [
        "!git clone https://github.com/diegompin/mtsa.git"
      ]
    },
    {
      "attachments": {},
      "cell_type": "markdown",
      "metadata": {
        "id": "GPQ09fBr5ue_"
      },
      "source": [
        "### Setting data directory:"
      ]
    },
    {
      "cell_type": "code",
      "execution_count": 1,
      "metadata": {
        "colab": {
          "base_uri": "https://localhost:8080/",
          "height": 36
        },
        "id": "fDEi8QAf3Wq0",
        "outputId": "f8d21c19-110b-4ac4-d762-f6040379112d"
      },
      "outputs": [],
      "source": [
        "import os\n",
        "path_input_1 = os.path.join(os.getcwd(),  \"sample_data\", \"machine_type_1\", \"id_00\")\n",
        "path_input_2 = os.path.join(os.getcwd(),  \"mtsa\", \"examples\", \"sample_data\", \"machine_type_1\", \"id_00\")"
      ]
    },
    {
      "cell_type": "code",
      "execution_count": 2,
      "metadata": {},
      "outputs": [
        {
          "name": "stderr",
          "output_type": "stream",
          "text": [
            "2024-06-28 09:50:26.086290: I tensorflow/core/platform/cpu_feature_guard.cc:182] This TensorFlow binary is optimized to use available CPU instructions in performance-critical operations.\n",
            "To enable the following instructions: AVX2 FMA, in other operations, rebuild TensorFlow with the appropriate compiler flags.\n",
            "2024-06-28 09:50:27.534999: I tensorflow/compiler/xla/stream_executor/cuda/cuda_gpu_executor.cc:996] successful NUMA node read from SysFS had negative value (-1), but there must be at least one NUMA node, so returning NUMA node zero. See more at https://github.com/torvalds/linux/blob/v6.0/Documentation/ABI/testing/sysfs-bus-pci#L344-L355\n",
            "2024-06-28 09:50:27.535245: I tensorflow/compiler/xla/stream_executor/cuda/cuda_gpu_executor.cc:996] successful NUMA node read from SysFS had negative value (-1), but there must be at least one NUMA node, so returning NUMA node zero. See more at https://github.com/torvalds/linux/blob/v6.0/Documentation/ABI/testing/sysfs-bus-pci#L344-L355\n",
            "2024-06-28 09:50:27.538581: I tensorflow/compiler/xla/stream_executor/cuda/cuda_gpu_executor.cc:996] successful NUMA node read from SysFS had negative value (-1), but there must be at least one NUMA node, so returning NUMA node zero. See more at https://github.com/torvalds/linux/blob/v6.0/Documentation/ABI/testing/sysfs-bus-pci#L344-L355\n",
            "2024-06-28 09:50:27.538810: I tensorflow/compiler/xla/stream_executor/cuda/cuda_gpu_executor.cc:996] successful NUMA node read from SysFS had negative value (-1), but there must be at least one NUMA node, so returning NUMA node zero. See more at https://github.com/torvalds/linux/blob/v6.0/Documentation/ABI/testing/sysfs-bus-pci#L344-L355\n",
            "2024-06-28 09:50:27.539008: I tensorflow/compiler/xla/stream_executor/cuda/cuda_gpu_executor.cc:996] successful NUMA node read from SysFS had negative value (-1), but there must be at least one NUMA node, so returning NUMA node zero. See more at https://github.com/torvalds/linux/blob/v6.0/Documentation/ABI/testing/sysfs-bus-pci#L344-L355\n",
            "2024-06-28 09:50:27.539203: I tensorflow/compiler/xla/stream_executor/cuda/cuda_gpu_executor.cc:996] successful NUMA node read from SysFS had negative value (-1), but there must be at least one NUMA node, so returning NUMA node zero. See more at https://github.com/torvalds/linux/blob/v6.0/Documentation/ABI/testing/sysfs-bus-pci#L344-L355\n"
          ]
        }
      ],
      "source": [
        "import tensorflow as tf\n",
        "\n",
        "gpus = tf.config.experimental.list_physical_devices('GPU')\n",
        "assert len(gpus) > 0, \"Not enough GPU hardware devices available\"\n",
        "if gpus:\n",
        "    for gpu in gpus:\n",
        "        tf.config.experimental.set_memory_growth(gpu, True)"
      ]
    },
    {
      "cell_type": "code",
      "execution_count": 3,
      "metadata": {},
      "outputs": [],
      "source": [
        "import sys\n",
        "sys.path.append(\"..\")"
      ]
    },
    {
      "cell_type": "code",
      "execution_count": 4,
      "metadata": {},
      "outputs": [],
      "source": [
        "%load_ext autoreload\n",
        "%autoreload 2"
      ]
    },
    {
      "attachments": {},
      "cell_type": "markdown",
      "metadata": {
        "id": "8sgHTpcy53JY"
      },
      "source": [
        "### Reading Data Files:"
      ]
    },
    {
      "cell_type": "code",
      "execution_count": 5,
      "metadata": {
        "id": "uoRf7Uzl24L9"
      },
      "outputs": [],
      "source": [
        "from mtsa import calculate_aucroc"
      ]
    },
    {
      "cell_type": "code",
      "execution_count": 6,
      "metadata": {
        "colab": {
          "base_uri": "https://localhost:8080/"
        },
        "id": "KyZ2hEM228t3",
        "outputId": "b907463f-efe2-419a-ebbb-f87b8851acd0"
      },
      "outputs": [
        {
          "data": {
            "text/plain": [
              "array([1., 1., 1., 1., 1., 0., 0., 0., 0., 0.])"
            ]
          },
          "execution_count": 6,
          "metadata": {},
          "output_type": "execute_result"
        }
      ],
      "source": [
        "from mtsa import files_train_test_split\n",
        "#path_input_1 = '/data/MIMII/fan/id_00/'\n",
        "X_train, X_test, y_train, y_test = files_train_test_split(path_input_1)\n",
        "if(len(y_train) == 0): \n",
        "    X_train, X_test, y_train, y_test = files_train_test_split(path_input_2)\n",
        "y_test"
      ]
    },
    {
      "attachments": {},
      "cell_type": "markdown",
      "metadata": {
        "id": "GUzDG1sW6LNf"
      },
      "source": [
        "### MFFCMix Model:"
      ]
    },
    {
      "cell_type": "code",
      "execution_count": 7,
      "metadata": {
        "colab": {
          "base_uri": "https://localhost:8080/",
          "height": 254
        },
        "id": "ztsT35vW4ER7",
        "outputId": "70427501-5395-4950-c9ac-b5dedb81a601"
      },
      "outputs": [
        {
          "data": {
            "text/html": [
              "<style>#sk-container-id-1 {color: black;}#sk-container-id-1 pre{padding: 0;}#sk-container-id-1 div.sk-toggleable {background-color: white;}#sk-container-id-1 label.sk-toggleable__label {cursor: pointer;display: block;width: 100%;margin-bottom: 0;padding: 0.3em;box-sizing: border-box;text-align: center;}#sk-container-id-1 label.sk-toggleable__label-arrow:before {content: \"▸\";float: left;margin-right: 0.25em;color: #696969;}#sk-container-id-1 label.sk-toggleable__label-arrow:hover:before {color: black;}#sk-container-id-1 div.sk-estimator:hover label.sk-toggleable__label-arrow:before {color: black;}#sk-container-id-1 div.sk-toggleable__content {max-height: 0;max-width: 0;overflow: hidden;text-align: left;background-color: #f0f8ff;}#sk-container-id-1 div.sk-toggleable__content pre {margin: 0.2em;color: black;border-radius: 0.25em;background-color: #f0f8ff;}#sk-container-id-1 input.sk-toggleable__control:checked~div.sk-toggleable__content {max-height: 200px;max-width: 100%;overflow: auto;}#sk-container-id-1 input.sk-toggleable__control:checked~label.sk-toggleable__label-arrow:before {content: \"▾\";}#sk-container-id-1 div.sk-estimator input.sk-toggleable__control:checked~label.sk-toggleable__label {background-color: #d4ebff;}#sk-container-id-1 div.sk-label input.sk-toggleable__control:checked~label.sk-toggleable__label {background-color: #d4ebff;}#sk-container-id-1 input.sk-hidden--visually {border: 0;clip: rect(1px 1px 1px 1px);clip: rect(1px, 1px, 1px, 1px);height: 1px;margin: -1px;overflow: hidden;padding: 0;position: absolute;width: 1px;}#sk-container-id-1 div.sk-estimator {font-family: monospace;background-color: #f0f8ff;border: 1px dotted black;border-radius: 0.25em;box-sizing: border-box;margin-bottom: 0.5em;}#sk-container-id-1 div.sk-estimator:hover {background-color: #d4ebff;}#sk-container-id-1 div.sk-parallel-item::after {content: \"\";width: 100%;border-bottom: 1px solid gray;flex-grow: 1;}#sk-container-id-1 div.sk-label:hover label.sk-toggleable__label {background-color: #d4ebff;}#sk-container-id-1 div.sk-serial::before {content: \"\";position: absolute;border-left: 1px solid gray;box-sizing: border-box;top: 0;bottom: 0;left: 50%;z-index: 0;}#sk-container-id-1 div.sk-serial {display: flex;flex-direction: column;align-items: center;background-color: white;padding-right: 0.2em;padding-left: 0.2em;position: relative;}#sk-container-id-1 div.sk-item {position: relative;z-index: 1;}#sk-container-id-1 div.sk-parallel {display: flex;align-items: stretch;justify-content: center;background-color: white;position: relative;}#sk-container-id-1 div.sk-item::before, #sk-container-id-1 div.sk-parallel-item::before {content: \"\";position: absolute;border-left: 1px solid gray;box-sizing: border-box;top: 0;bottom: 0;left: 50%;z-index: -1;}#sk-container-id-1 div.sk-parallel-item {display: flex;flex-direction: column;z-index: 1;position: relative;background-color: white;}#sk-container-id-1 div.sk-parallel-item:first-child::after {align-self: flex-end;width: 50%;}#sk-container-id-1 div.sk-parallel-item:last-child::after {align-self: flex-start;width: 50%;}#sk-container-id-1 div.sk-parallel-item:only-child::after {width: 0;}#sk-container-id-1 div.sk-dashed-wrapped {border: 1px dashed gray;margin: 0 0.4em 0.5em 0.4em;box-sizing: border-box;padding-bottom: 0.4em;background-color: white;}#sk-container-id-1 div.sk-label label {font-family: monospace;font-weight: bold;display: inline-block;line-height: 1.2em;}#sk-container-id-1 div.sk-label-container {text-align: center;}#sk-container-id-1 div.sk-container {/* jupyter's `normalize.less` sets `[hidden] { display: none; }` but bootstrap.min.css set `[hidden] { display: none !important; }` so we also need the `!important` here to be able to override the default hidden behavior on the sphinx rendered scikit-learn.org. See: https://github.com/scikit-learn/scikit-learn/issues/21755 */display: inline-block !important;position: relative;}#sk-container-id-1 div.sk-text-repr-fallback {display: none;}</style><div id=\"sk-container-id-1\" class=\"sk-top-container\"><div class=\"sk-text-repr-fallback\"><pre>Pipeline(steps=[(&#x27;wav2array&#x27;, Wav2Array()),\n",
              "                (&#x27;array2mfcc&#x27;, Array2Mfcc(sampling_rate=None)),\n",
              "                (&#x27;features&#x27;,\n",
              "                 FeatureUnion(transformer_list=[(&#x27;M&#x27;,\n",
              "                                                 MagnitudeMeanFeatureMfcc()),\n",
              "                                                (&#x27;S&#x27;,\n",
              "                                                 MagnitudeStdFeatureMfcc()),\n",
              "                                                (&#x27;C&#x27;,\n",
              "                                                 CorrelationFeatureMfcc())])),\n",
              "                (&#x27;final_model&#x27;, GaussianMixture())])</pre><b>In a Jupyter environment, please rerun this cell to show the HTML representation or trust the notebook. <br />On GitHub, the HTML representation is unable to render, please try loading this page with nbviewer.org.</b></div><div class=\"sk-container\" hidden><div class=\"sk-item sk-dashed-wrapped\"><div class=\"sk-label-container\"><div class=\"sk-label sk-toggleable\"><input class=\"sk-toggleable__control sk-hidden--visually\" id=\"sk-estimator-id-1\" type=\"checkbox\" ><label for=\"sk-estimator-id-1\" class=\"sk-toggleable__label sk-toggleable__label-arrow\">Pipeline</label><div class=\"sk-toggleable__content\"><pre>Pipeline(steps=[(&#x27;wav2array&#x27;, Wav2Array()),\n",
              "                (&#x27;array2mfcc&#x27;, Array2Mfcc(sampling_rate=None)),\n",
              "                (&#x27;features&#x27;,\n",
              "                 FeatureUnion(transformer_list=[(&#x27;M&#x27;,\n",
              "                                                 MagnitudeMeanFeatureMfcc()),\n",
              "                                                (&#x27;S&#x27;,\n",
              "                                                 MagnitudeStdFeatureMfcc()),\n",
              "                                                (&#x27;C&#x27;,\n",
              "                                                 CorrelationFeatureMfcc())])),\n",
              "                (&#x27;final_model&#x27;, GaussianMixture())])</pre></div></div></div><div class=\"sk-serial\"><div class=\"sk-item\"><div class=\"sk-estimator sk-toggleable\"><input class=\"sk-toggleable__control sk-hidden--visually\" id=\"sk-estimator-id-2\" type=\"checkbox\" ><label for=\"sk-estimator-id-2\" class=\"sk-toggleable__label sk-toggleable__label-arrow\">Wav2Array</label><div class=\"sk-toggleable__content\"><pre>Wav2Array()</pre></div></div></div><div class=\"sk-item\"><div class=\"sk-estimator sk-toggleable\"><input class=\"sk-toggleable__control sk-hidden--visually\" id=\"sk-estimator-id-3\" type=\"checkbox\" ><label for=\"sk-estimator-id-3\" class=\"sk-toggleable__label sk-toggleable__label-arrow\">Array2Mfcc</label><div class=\"sk-toggleable__content\"><pre>Array2Mfcc(sampling_rate=None)</pre></div></div></div><div class=\"sk-item sk-dashed-wrapped\"><div class=\"sk-label-container\"><div class=\"sk-label sk-toggleable\"><input class=\"sk-toggleable__control sk-hidden--visually\" id=\"sk-estimator-id-4\" type=\"checkbox\" ><label for=\"sk-estimator-id-4\" class=\"sk-toggleable__label sk-toggleable__label-arrow\">features: FeatureUnion</label><div class=\"sk-toggleable__content\"><pre>FeatureUnion(transformer_list=[(&#x27;M&#x27;, MagnitudeMeanFeatureMfcc()),\n",
              "                               (&#x27;S&#x27;, MagnitudeStdFeatureMfcc()),\n",
              "                               (&#x27;C&#x27;, CorrelationFeatureMfcc())])</pre></div></div></div><div class=\"sk-parallel\"><div class=\"sk-parallel-item\"><div class=\"sk-item\"><div class=\"sk-label-container\"><div class=\"sk-label sk-toggleable\"><label>M</label></div></div><div class=\"sk-serial\"><div class=\"sk-item\"><div class=\"sk-estimator sk-toggleable\"><input class=\"sk-toggleable__control sk-hidden--visually\" id=\"sk-estimator-id-5\" type=\"checkbox\" ><label for=\"sk-estimator-id-5\" class=\"sk-toggleable__label sk-toggleable__label-arrow\">MagnitudeMeanFeatureMfcc</label><div class=\"sk-toggleable__content\"><pre>MagnitudeMeanFeatureMfcc()</pre></div></div></div></div></div></div><div class=\"sk-parallel-item\"><div class=\"sk-item\"><div class=\"sk-label-container\"><div class=\"sk-label sk-toggleable\"><label>S</label></div></div><div class=\"sk-serial\"><div class=\"sk-item\"><div class=\"sk-estimator sk-toggleable\"><input class=\"sk-toggleable__control sk-hidden--visually\" id=\"sk-estimator-id-6\" type=\"checkbox\" ><label for=\"sk-estimator-id-6\" class=\"sk-toggleable__label sk-toggleable__label-arrow\">MagnitudeStdFeatureMfcc</label><div class=\"sk-toggleable__content\"><pre>MagnitudeStdFeatureMfcc()</pre></div></div></div></div></div></div><div class=\"sk-parallel-item\"><div class=\"sk-item\"><div class=\"sk-label-container\"><div class=\"sk-label sk-toggleable\"><label>C</label></div></div><div class=\"sk-serial\"><div class=\"sk-item\"><div class=\"sk-estimator sk-toggleable\"><input class=\"sk-toggleable__control sk-hidden--visually\" id=\"sk-estimator-id-7\" type=\"checkbox\" ><label for=\"sk-estimator-id-7\" class=\"sk-toggleable__label sk-toggleable__label-arrow\">CorrelationFeatureMfcc</label><div class=\"sk-toggleable__content\"><pre>CorrelationFeatureMfcc()</pre></div></div></div></div></div></div></div></div><div class=\"sk-item\"><div class=\"sk-estimator sk-toggleable\"><input class=\"sk-toggleable__control sk-hidden--visually\" id=\"sk-estimator-id-8\" type=\"checkbox\" ><label for=\"sk-estimator-id-8\" class=\"sk-toggleable__label sk-toggleable__label-arrow\">GaussianMixture</label><div class=\"sk-toggleable__content\"><pre>GaussianMixture()</pre></div></div></div></div></div></div></div>"
            ],
            "text/plain": [
              "Pipeline(steps=[('wav2array', Wav2Array()),\n",
              "                ('array2mfcc', Array2Mfcc(sampling_rate=None)),\n",
              "                ('features',\n",
              "                 FeatureUnion(transformer_list=[('M',\n",
              "                                                 MagnitudeMeanFeatureMfcc()),\n",
              "                                                ('S',\n",
              "                                                 MagnitudeStdFeatureMfcc()),\n",
              "                                                ('C',\n",
              "                                                 CorrelationFeatureMfcc())])),\n",
              "                ('final_model', GaussianMixture())])"
            ]
          },
          "execution_count": 7,
          "metadata": {},
          "output_type": "execute_result"
        }
      ],
      "source": [
        "from mtsa import MFCCMix\n",
        "model_mfccmix = MFCCMix()\n",
        "model_mfccmix.fit(X_train, y_train)\n",
        "model_mfccmix.model"
      ]
    },
    {
      "cell_type": "code",
      "execution_count": 7,
      "metadata": {
        "colab": {
          "base_uri": "https://localhost:8080/"
        },
        "id": "YRE7dHnc4TQ6",
        "outputId": "4f7d2865-4c63-442d-c939-d2dc50167958"
      },
      "outputs": [
        {
          "data": {
            "text/plain": [
              "0.64"
            ]
          },
          "execution_count": 7,
          "metadata": {},
          "output_type": "execute_result"
        }
      ],
      "source": [
        "auc = calculate_aucroc(model_mfccmix, X_test, y_test)\n",
        "auc"
      ]
    },
    {
      "attachments": {},
      "cell_type": "markdown",
      "metadata": {
        "id": "-zkELfEF6Sjh"
      },
      "source": [
        "### Hitachi Model:"
      ]
    },
    {
      "cell_type": "code",
      "execution_count": 5,
      "metadata": {
        "colab": {
          "base_uri": "https://localhost:8080/",
          "height": 213
        },
        "id": "liN9NNJA4fCN",
        "outputId": "557e8065-66bb-43f6-adab-ac3e51fa8f4f"
      },
      "outputs": [
        {
          "ename": "ValueError",
          "evalue": "Memory growth cannot differ between GPU devices",
          "output_type": "error",
          "traceback": [
            "\u001b[0;31m---------------------------------------------------------------------------\u001b[0m",
            "\u001b[0;31mValueError\u001b[0m                                Traceback (most recent call last)",
            "Cell \u001b[0;32mIn[5], line 2\u001b[0m\n\u001b[1;32m      1\u001b[0m \u001b[38;5;28;01mfrom\u001b[39;00m \u001b[38;5;21;01mmtsa\u001b[39;00m \u001b[38;5;28;01mimport\u001b[39;00m Hitachi\n\u001b[0;32m----> 2\u001b[0m model_hitachi \u001b[38;5;241m=\u001b[39m \u001b[43mHitachi\u001b[49m\u001b[43m(\u001b[49m\u001b[43m)\u001b[49m\n\u001b[1;32m      3\u001b[0m model_hitachi\u001b[38;5;241m.\u001b[39mfit(X_train, y_train)\n\u001b[1;32m      4\u001b[0m model_hitachi\u001b[38;5;241m.\u001b[39mmodel\n",
            "File \u001b[0;32m/data/matheus-coelho/mtsa/examples/../mtsa/models/hitachi.py:56\u001b[0m, in \u001b[0;36mHitachi.__init__\u001b[0;34m(self, sampling_rate, random_state, n_mels, frames, n_fft, hop_length, power, mono, epochs, batch_size, shuffle, validation_split, verbose)\u001b[0m\n\u001b[1;32m     54\u001b[0m \u001b[38;5;28mself\u001b[39m\u001b[38;5;241m.\u001b[39mvalidation_split\u001b[38;5;241m=\u001b[39mvalidation_split\n\u001b[1;32m     55\u001b[0m \u001b[38;5;28mself\u001b[39m\u001b[38;5;241m.\u001b[39mverbose\u001b[38;5;241m=\u001b[39mverbose\n\u001b[0;32m---> 56\u001b[0m \u001b[38;5;28mself\u001b[39m\u001b[38;5;241m.\u001b[39mmodel \u001b[38;5;241m=\u001b[39m \u001b[38;5;28;43mself\u001b[39;49m\u001b[38;5;241;43m.\u001b[39;49m\u001b[43m_build_model\u001b[49m\u001b[43m(\u001b[49m\u001b[43m)\u001b[49m\n",
            "File \u001b[0;32m/data/matheus-coelho/mtsa/examples/../mtsa/models/hitachi.py:146\u001b[0m, in \u001b[0;36mHitachi._build_model\u001b[0;34m(self)\u001b[0m\n\u001b[1;32m    136\u001b[0m demux2array \u001b[38;5;241m=\u001b[39m Demux2Array()\n\u001b[1;32m    137\u001b[0m array2melspec\u001b[38;5;241m=\u001b[39m Array2MelSpec(\n\u001b[1;32m    138\u001b[0m     sampling_rate\u001b[38;5;241m=\u001b[39m\u001b[38;5;28mself\u001b[39m\u001b[38;5;241m.\u001b[39msampling_rate,\n\u001b[1;32m    139\u001b[0m     n_fft\u001b[38;5;241m=\u001b[39m\u001b[38;5;28mself\u001b[39m\u001b[38;5;241m.\u001b[39mn_fft,\n\u001b[0;32m   (...)\u001b[0m\n\u001b[1;32m    143\u001b[0m     power\u001b[38;5;241m=\u001b[39m\u001b[38;5;28mself\u001b[39m\u001b[38;5;241m.\u001b[39mpower,\n\u001b[1;32m    144\u001b[0m     )\n\u001b[0;32m--> 146\u001b[0m final_model \u001b[38;5;241m=\u001b[39m \u001b[38;5;28;43mself\u001b[39;49m\u001b[38;5;241;43m.\u001b[39;49m\u001b[43mget_model\u001b[49m\u001b[43m(\u001b[49m\u001b[43m)\u001b[49m\n\u001b[1;32m    148\u001b[0m model \u001b[38;5;241m=\u001b[39m Pipeline(\n\u001b[1;32m    149\u001b[0m     steps\u001b[38;5;241m=\u001b[39m[\n\u001b[1;32m    150\u001b[0m         (\u001b[38;5;124m\"\u001b[39m\u001b[38;5;124mwav2array\u001b[39m\u001b[38;5;124m\"\u001b[39m, wav2array),\n\u001b[0;32m   (...)\u001b[0m\n\u001b[1;32m    154\u001b[0m         ]\n\u001b[1;32m    155\u001b[0m     )\n\u001b[1;32m    157\u001b[0m \u001b[38;5;28;01mreturn\u001b[39;00m model\n",
            "File \u001b[0;32m/data/matheus-coelho/mtsa/examples/../mtsa/models/hitachi.py:120\u001b[0m, in \u001b[0;36mHitachi.get_model\u001b[0;34m(self)\u001b[0m\n\u001b[1;32m    118\u001b[0m inputDim \u001b[38;5;241m=\u001b[39m \u001b[38;5;28mself\u001b[39m\u001b[38;5;241m.\u001b[39mn_mels \u001b[38;5;241m*\u001b[39m \u001b[38;5;28mself\u001b[39m\u001b[38;5;241m.\u001b[39mframes\n\u001b[1;32m    119\u001b[0m inputLayer \u001b[38;5;241m=\u001b[39m Input(shape\u001b[38;5;241m=\u001b[39m(inputDim,))\n\u001b[0;32m--> 120\u001b[0m h \u001b[38;5;241m=\u001b[39m \u001b[43mDense\u001b[49m\u001b[43m(\u001b[49m\u001b[38;5;241;43m64\u001b[39;49m\u001b[43m,\u001b[49m\u001b[43m \u001b[49m\u001b[43mactivation\u001b[49m\u001b[38;5;241;43m=\u001b[39;49m\u001b[38;5;124;43m\"\u001b[39;49m\u001b[38;5;124;43mrelu\u001b[39;49m\u001b[38;5;124;43m\"\u001b[39;49m\u001b[43m)\u001b[49m\u001b[43m(\u001b[49m\u001b[43minputLayer\u001b[49m\u001b[43m)\u001b[49m\n\u001b[1;32m    121\u001b[0m h \u001b[38;5;241m=\u001b[39m Dense(\u001b[38;5;241m64\u001b[39m, activation\u001b[38;5;241m=\u001b[39m\u001b[38;5;124m\"\u001b[39m\u001b[38;5;124mrelu\u001b[39m\u001b[38;5;124m\"\u001b[39m)(h)\n\u001b[1;32m    122\u001b[0m h \u001b[38;5;241m=\u001b[39m Dense(\u001b[38;5;241m8\u001b[39m, activation\u001b[38;5;241m=\u001b[39m\u001b[38;5;124m\"\u001b[39m\u001b[38;5;124mrelu\u001b[39m\u001b[38;5;124m\"\u001b[39m)(h)\n",
            "File \u001b[0;32m/usr/local/lib/python3.8/dist-packages/keras/utils/traceback_utils.py:70\u001b[0m, in \u001b[0;36mfilter_traceback.<locals>.error_handler\u001b[0;34m(*args, **kwargs)\u001b[0m\n\u001b[1;32m     67\u001b[0m     filtered_tb \u001b[38;5;241m=\u001b[39m _process_traceback_frames(e\u001b[38;5;241m.\u001b[39m__traceback__)\n\u001b[1;32m     68\u001b[0m     \u001b[38;5;66;03m# To get the full stack trace, call:\u001b[39;00m\n\u001b[1;32m     69\u001b[0m     \u001b[38;5;66;03m# `tf.debugging.disable_traceback_filtering()`\u001b[39;00m\n\u001b[0;32m---> 70\u001b[0m     \u001b[38;5;28;01mraise\u001b[39;00m e\u001b[38;5;241m.\u001b[39mwith_traceback(filtered_tb) \u001b[38;5;28;01mfrom\u001b[39;00m \u001b[38;5;28;01mNone\u001b[39;00m\n\u001b[1;32m     71\u001b[0m \u001b[38;5;28;01mfinally\u001b[39;00m:\n\u001b[1;32m     72\u001b[0m     \u001b[38;5;28;01mdel\u001b[39;00m filtered_tb\n",
            "File \u001b[0;32m/usr/local/lib/python3.8/dist-packages/keras/backend.py:2101\u001b[0m, in \u001b[0;36mRandomGenerator.random_uniform\u001b[0;34m(self, shape, minval, maxval, dtype, nonce)\u001b[0m\n\u001b[1;32m   2099\u001b[0m     \u001b[38;5;28;01mif\u001b[39;00m nonce:\n\u001b[1;32m   2100\u001b[0m         seed \u001b[38;5;241m=\u001b[39m tf\u001b[38;5;241m.\u001b[39mrandom\u001b[38;5;241m.\u001b[39mexperimental\u001b[38;5;241m.\u001b[39mstateless_fold_in(seed, nonce)\n\u001b[0;32m-> 2101\u001b[0m     \u001b[38;5;28;01mreturn\u001b[39;00m \u001b[43mtf\u001b[49m\u001b[38;5;241;43m.\u001b[39;49m\u001b[43mrandom\u001b[49m\u001b[38;5;241;43m.\u001b[39;49m\u001b[43mstateless_uniform\u001b[49m\u001b[43m(\u001b[49m\n\u001b[1;32m   2102\u001b[0m \u001b[43m        \u001b[49m\u001b[43mshape\u001b[49m\u001b[38;5;241;43m=\u001b[39;49m\u001b[43mshape\u001b[49m\u001b[43m,\u001b[49m\n\u001b[1;32m   2103\u001b[0m \u001b[43m        \u001b[49m\u001b[43mminval\u001b[49m\u001b[38;5;241;43m=\u001b[39;49m\u001b[43mminval\u001b[49m\u001b[43m,\u001b[49m\n\u001b[1;32m   2104\u001b[0m \u001b[43m        \u001b[49m\u001b[43mmaxval\u001b[49m\u001b[38;5;241;43m=\u001b[39;49m\u001b[43mmaxval\u001b[49m\u001b[43m,\u001b[49m\n\u001b[1;32m   2105\u001b[0m \u001b[43m        \u001b[49m\u001b[43mdtype\u001b[49m\u001b[38;5;241;43m=\u001b[39;49m\u001b[43mdtype\u001b[49m\u001b[43m,\u001b[49m\n\u001b[1;32m   2106\u001b[0m \u001b[43m        \u001b[49m\u001b[43mseed\u001b[49m\u001b[38;5;241;43m=\u001b[39;49m\u001b[43mseed\u001b[49m\u001b[43m,\u001b[49m\n\u001b[1;32m   2107\u001b[0m \u001b[43m    \u001b[49m\u001b[43m)\u001b[49m\n\u001b[1;32m   2108\u001b[0m \u001b[38;5;28;01mreturn\u001b[39;00m tf\u001b[38;5;241m.\u001b[39mrandom\u001b[38;5;241m.\u001b[39muniform(\n\u001b[1;32m   2109\u001b[0m     shape\u001b[38;5;241m=\u001b[39mshape,\n\u001b[1;32m   2110\u001b[0m     minval\u001b[38;5;241m=\u001b[39mminval,\n\u001b[0;32m   (...)\u001b[0m\n\u001b[1;32m   2113\u001b[0m     seed\u001b[38;5;241m=\u001b[39m\u001b[38;5;28mself\u001b[39m\u001b[38;5;241m.\u001b[39mmake_legacy_seed(),\n\u001b[1;32m   2114\u001b[0m )\n",
            "\u001b[0;31mValueError\u001b[0m: Memory growth cannot differ between GPU devices"
          ]
        }
      ],
      "source": [
        "from mtsa import Hitachi\n",
        "model_hitachi = Hitachi()\n",
        "model_hitachi.fit(X_train, y_train)\n",
        "model_hitachi.model"
      ]
    },
    {
      "cell_type": "code",
      "execution_count": 9,
      "metadata": {
        "colab": {
          "base_uri": "https://localhost:8080/"
        },
        "id": "NmdbBjP04lI1",
        "outputId": "f2fd5bd8-4144-4a4d-f51a-47d173ebc56c"
      },
      "outputs": [
        {
          "ename": "NameError",
          "evalue": "name 'model_hitachi' is not defined",
          "output_type": "error",
          "traceback": [
            "\u001b[0;31m---------------------------------------------------------------------------\u001b[0m",
            "\u001b[0;31mNameError\u001b[0m                                 Traceback (most recent call last)",
            "Cell \u001b[0;32mIn[9], line 1\u001b[0m\n\u001b[0;32m----> 1\u001b[0m auc \u001b[38;5;241m=\u001b[39m calculate_aucroc(\u001b[43mmodel_hitachi\u001b[49m, X_test, y_test)\n\u001b[1;32m      2\u001b[0m auc\n",
            "\u001b[0;31mNameError\u001b[0m: name 'model_hitachi' is not defined"
          ]
        }
      ],
      "source": [
        "auc = calculate_aucroc(model_hitachi, X_test, y_test)\n",
        "auc"
      ]
    },
    {
      "cell_type": "markdown",
      "metadata": {},
      "source": [
        "### RANSynCoders"
      ]
    },
    {
      "cell_type": "code",
      "execution_count": 13,
      "metadata": {
        "id": "RQ2nso5T4rag"
      },
      "outputs": [
        {
          "name": "stdout",
          "output_type": "stream",
          "text": [
            "\n",
            "Start of frequency pre-train epoch 0\n",
            "pre-reconstruction_loss: 0.24115552\n",
            "Start of frequency pre-train epoch 1\n",
            "pre-reconstruction_loss: 0.23891613\n",
            "Start of frequency pre-train epoch 2\n",
            "pre-reconstruction_loss: 0.23675919\n",
            "Start of frequency pre-train epoch 3\n",
            "pre-reconstruction_loss: 0.23467274\n",
            "Start of frequency pre-train epoch 4\n",
            "found common oscillations at period(s) = [17.38888888888889, 3.5977011494252875, 2.0324675324675328]\n"
          ]
        },
        {
          "name": "stderr",
          "output_type": "stream",
          "text": [
            "2024-06-28 09:53:44.452720: I tensorflow/core/common_runtime/executor.cc:1197] [/device:CPU:0] (DEBUG INFO) Executor start aborting (this does not indicate an error and you can ignore this message): INVALID_ARGUMENT: You must feed a value for placeholder tensor 'Placeholder/_1' with dtype float and shape [313,20]\n",
            "\t [[{{node Placeholder/_1}}]]\n"
          ]
        },
        {
          "name": "stdout",
          "output_type": "stream",
          "text": [
            "\n",
            "Start of sine representation pre-train epoch 0\n",
            "sine_loss: 0.23429495\n",
            "Start of sine representation pre-train epoch 1\n",
            "sine_loss: 0.20670985\n",
            "Start of sine representation pre-train epoch 2\n",
            "sine_loss: 0.17955303\n",
            "Start of sine representation pre-train epoch 3\n",
            "sine_loss: 0.15458995\n",
            "Start of sine representation pre-train epoch 4\n",
            "sine_loss: 0.13271163\n",
            "Start of epoch 0\n",
            "sine_loss: 0.114641875 upper_bound_loss: 0.10769732 lower_bound_loss: 0.08109015\n",
            "Start of epoch 1\n",
            "sine_loss: 0.10061265 upper_bound_loss: 0.10225938 lower_bound_loss: 0.084670566\n",
            "Start of epoch 2\n",
            "sine_loss: 0.0909533 upper_bound_loss: 0.093835674 lower_bound_loss: 0.09121064\n",
            "Start of epoch 3\n",
            "sine_loss: 0.08561389 upper_bound_loss: 0.08290926 lower_bound_loss: 0.10085592\n",
            "Start of epoch 4\n",
            "sine_loss: 0.083941266 upper_bound_loss: 0.070782125 lower_bound_loss: 0.11263214\n",
            "Start of epoch 5\n",
            "sine_loss: 0.084315695 upper_bound_loss: 0.059415385 lower_bound_loss: 0.12442606\n",
            "Start of epoch 6\n",
            "sine_loss: 0.08543112 upper_bound_loss: 0.050429266 lower_bound_loss: 0.13338774\n",
            "Start of epoch 7\n",
            "sine_loss: 0.08594155 upper_bound_loss: 0.044536255 lower_bound_loss: 0.13741294\n",
            "Start of epoch 8\n",
            "sine_loss: 0.08535169 upper_bound_loss: 0.0413393 lower_bound_loss: 0.13559563\n",
            "Start of epoch 9\n",
            "sine_loss: 0.08428298 upper_bound_loss: 0.04046608 lower_bound_loss: 0.12822865\n",
            "Start of sine representation pre-train epoch 0\n",
            "sine_loss: 0.09473228\n",
            "Start of sine representation pre-train epoch 1\n",
            "sine_loss: 0.093148686\n",
            "Start of sine representation pre-train epoch 2\n",
            "sine_loss: 0.090019755\n",
            "Start of sine representation pre-train epoch 3\n",
            "sine_loss: 0.08622007\n",
            "Start of sine representation pre-train epoch 4\n",
            "sine_loss: 0.08268986\r"
          ]
        },
        {
          "name": "stderr",
          "output_type": "stream",
          "text": [
            "2024-06-28 09:53:45.963129: I tensorflow/core/common_runtime/executor.cc:1197] [/device:CPU:0] (DEBUG INFO) Executor start aborting (this does not indicate an error and you can ignore this message): INVALID_ARGUMENT: You must feed a value for placeholder tensor 'Placeholder/_1' with dtype float and shape [313,20]\n",
            "\t [[{{node Placeholder/_1}}]]\n"
          ]
        },
        {
          "name": "stdout",
          "output_type": "stream",
          "text": [
            "\n",
            "Start of epoch 0\n",
            "sine_loss: 0.08005923 upper_bound_loss: 0.06560284 lower_bound_loss: 0.07506829\n",
            "Start of epoch 1\n",
            "sine_loss: 0.07870169 upper_bound_loss: 0.063551046 lower_bound_loss: 0.06592863\n",
            "Start of epoch 2\n",
            "sine_loss: 0.0785979 upper_bound_loss: 0.0610605 lower_bound_loss: 0.05940626\n",
            "Start of epoch 3\n",
            "sine_loss: 0.07886555 upper_bound_loss: 0.05838856 lower_bound_loss: 0.054800462\n",
            "Start of epoch 4\n",
            "sine_loss: 0.07903236 upper_bound_loss: 0.05567413 lower_bound_loss: 0.051494904\n",
            "Start of epoch 5\n",
            "sine_loss: 0.07887922 upper_bound_loss: 0.05289309 lower_bound_loss: 0.049029723\n",
            "Start of epoch 6\n",
            "sine_loss: 0.078395665 upper_bound_loss: 0.050211072 lower_bound_loss: 0.04716163\n",
            "Start of epoch 7\n",
            "sine_loss: 0.07768885 upper_bound_loss: 0.04772815 lower_bound_loss: 0.045934055\n",
            "Start of epoch 8\n",
            "sine_loss: 0.07699712 upper_bound_loss: 0.04546256 lower_bound_loss: 0.04529787\n",
            "Start of epoch 9\n",
            "sine_loss: 0.07656273 upper_bound_loss: 0.04349941 lower_bound_loss: 0.04510884\n",
            "Start of sine representation pre-train epoch 0\n",
            "sine_loss: 0.08076999\n",
            "Start of sine representation pre-train epoch 1\n",
            "sine_loss: 0.07901971\n",
            "Start of sine representation pre-train epoch 2\n",
            "sine_loss: 0.07629822\n",
            "Start of sine representation pre-train epoch 3\n",
            "sine_loss: 0.07379818\n",
            "Start of sine representation pre-train epoch 4\n",
            "sine_loss: 0.07224815\n",
            "Start of epoch 0\n",
            "sine_loss: 0.07161161 upper_bound_loss: 0.034201168 lower_bound_loss: 0.046632536\n",
            "Start of epoch 1\n"
          ]
        },
        {
          "name": "stderr",
          "output_type": "stream",
          "text": [
            "2024-06-28 09:53:47.136529: I tensorflow/core/common_runtime/executor.cc:1197] [/device:CPU:0] (DEBUG INFO) Executor start aborting (this does not indicate an error and you can ignore this message): INVALID_ARGUMENT: You must feed a value for placeholder tensor 'Placeholder/_1' with dtype float and shape [313,20]\n",
            "\t [[{{node Placeholder/_1}}]]\n"
          ]
        },
        {
          "name": "stdout",
          "output_type": "stream",
          "text": [
            "sine_loss: 0.07158634 upper_bound_loss: 0.032812424 lower_bound_loss: 0.046232373\n",
            "Start of epoch 2\n",
            "sine_loss: 0.07160554 upper_bound_loss: 0.03177881 lower_bound_loss: 0.04544228\n",
            "Start of epoch 3\n",
            "sine_loss: 0.07128558 upper_bound_loss: 0.030929927 lower_bound_loss: 0.044096366\n",
            "Start of epoch 4\n",
            "sine_loss: 0.07066231 upper_bound_loss: 0.030119134 lower_bound_loss: 0.042445097\n",
            "Start of epoch 5\n",
            "sine_loss: 0.07001753 upper_bound_loss: 0.029402131 lower_bound_loss: 0.04086358\n",
            "Start of epoch 6\n",
            "sine_loss: 0.06951416 upper_bound_loss: 0.028920267 lower_bound_loss: 0.03967171\n",
            "Start of epoch 7\n",
            "sine_loss: 0.069296755 upper_bound_loss: 0.028618429 lower_bound_loss: 0.038903866\n",
            "Start of epoch 8\n",
            "sine_loss: 0.06929149 upper_bound_loss: 0.028208412 lower_bound_loss: 0.03838463\n",
            "Start of epoch 9\n",
            "sine_loss: 0.069287665 upper_bound_loss: 0.027651371 lower_bound_loss: 0.03793041\n",
            "Start of sine representation pre-train epoch 0\n",
            "sine_loss: 0.09119534\n",
            "Start of sine representation pre-train epoch 1\n",
            "sine_loss: 0.08450227\n",
            "Start of sine representation pre-train epoch 2\n",
            "sine_loss: 0.07555353\n",
            "Start of sine representation pre-train epoch 3\n",
            "sine_loss: 0.06705718\n",
            "Start of sine representation pre-train epoch 4\n",
            "sine_loss: 0.06092757\n",
            "Start of epoch 0\n"
          ]
        },
        {
          "name": "stderr",
          "output_type": "stream",
          "text": [
            "2024-06-28 09:53:48.273133: I tensorflow/core/common_runtime/executor.cc:1197] [/device:CPU:0] (DEBUG INFO) Executor start aborting (this does not indicate an error and you can ignore this message): INVALID_ARGUMENT: You must feed a value for placeholder tensor 'Placeholder/_1' with dtype float and shape [313,20]\n",
            "\t [[{{node Placeholder/_1}}]]\n"
          ]
        },
        {
          "name": "stdout",
          "output_type": "stream",
          "text": [
            "sine_loss: 0.05830783 upper_bound_loss: 0.02462751 lower_bound_loss: 0.035807863\n",
            "Start of epoch 1\n",
            "sine_loss: 0.057953153 upper_bound_loss: 0.022923725 lower_bound_loss: 0.03341044\n",
            "Start of epoch 2\n",
            "sine_loss: 0.05842936 upper_bound_loss: 0.022061724 lower_bound_loss: 0.031772178\n",
            "Start of epoch 3\n",
            "sine_loss: 0.058527764 upper_bound_loss: 0.021637505 lower_bound_loss: 0.030576091\n",
            "Start of epoch 4\n",
            "sine_loss: 0.058049798 upper_bound_loss: 0.021437686 lower_bound_loss: 0.029890364\n",
            "Start of epoch 5\n",
            "sine_loss: 0.057515543 upper_bound_loss: 0.02144333 lower_bound_loss: 0.029897518\n",
            "Start of epoch 6\n",
            "sine_loss: 0.057429403 upper_bound_loss: 0.021572886 lower_bound_loss: 0.0303375\n",
            "Start of epoch 7\n",
            "sine_loss: 0.05797712 upper_bound_loss: 0.021657875 lower_bound_loss: 0.030821137\n",
            "Start of epoch 8\n",
            "sine_loss: 0.058648475 upper_bound_loss: 0.021500753 lower_bound_loss: 0.03106883\n",
            "Start of epoch 9\n",
            "sine_loss: 0.058876164 upper_bound_loss: 0.021117605 lower_bound_loss: 0.030926568\n",
            "Start of sine representation pre-train epoch 0\n",
            "sine_loss: 0.09371041\n",
            "Start of sine representation pre-train epoch 1\n",
            "sine_loss: 0.08999381\n",
            "Start of sine representation pre-train epoch 2\n",
            "sine_loss: 0.08474391\n",
            "Start of sine representation pre-train epoch 3\n",
            "sine_loss: 0.07976724\n",
            "Start of sine representation pre-train epoch 4\n",
            "sine_loss: 0.07614711\r"
          ]
        },
        {
          "name": "stderr",
          "output_type": "stream",
          "text": [
            "2024-06-28 09:53:49.413793: I tensorflow/core/common_runtime/executor.cc:1197] [/device:CPU:0] (DEBUG INFO) Executor start aborting (this does not indicate an error and you can ignore this message): INVALID_ARGUMENT: You must feed a value for placeholder tensor 'Placeholder/_1' with dtype float and shape [313,20]\n",
            "\t [[{{node Placeholder/_1}}]]\n"
          ]
        },
        {
          "name": "stdout",
          "output_type": "stream",
          "text": [
            "\n",
            "Start of epoch 0\n",
            "sine_loss: 0.074112706 upper_bound_loss: 0.04125927 lower_bound_loss: 0.0373981\n",
            "Start of epoch 1\n",
            "sine_loss: 0.07369213 upper_bound_loss: 0.038989387 lower_bound_loss: 0.036682803\n",
            "Start of epoch 2\n",
            "sine_loss: 0.07382608 upper_bound_loss: 0.036654357 lower_bound_loss: 0.035377108\n",
            "Start of epoch 3\n",
            "sine_loss: 0.07382216 upper_bound_loss: 0.03458772 lower_bound_loss: 0.033926718\n",
            "Start of epoch 4\n",
            "sine_loss: 0.073488496 upper_bound_loss: 0.03286501 lower_bound_loss: 0.032716956\n",
            "Start of epoch 5\n",
            "sine_loss: 0.07314561 upper_bound_loss: 0.0313863 lower_bound_loss: 0.031944096\n",
            "Start of epoch 6\n",
            "sine_loss: 0.07301733 upper_bound_loss: 0.030156286 lower_bound_loss: 0.031612694\n",
            "Start of epoch 7\n",
            "sine_loss: 0.07305795 upper_bound_loss: 0.02906016 lower_bound_loss: 0.031568196\n",
            "Start of epoch 8\n",
            "sine_loss: 0.07327924 upper_bound_loss: 0.028204165 lower_bound_loss: 0.031621788\n",
            "Start of epoch 9\n",
            "sine_loss: 0.07341776 upper_bound_loss: 0.027497029 lower_bound_loss: 0.03162993\r"
          ]
        },
        {
          "data": {
            "text/html": [
              "<style>#sk-container-id-4 {color: black;}#sk-container-id-4 pre{padding: 0;}#sk-container-id-4 div.sk-toggleable {background-color: white;}#sk-container-id-4 label.sk-toggleable__label {cursor: pointer;display: block;width: 100%;margin-bottom: 0;padding: 0.3em;box-sizing: border-box;text-align: center;}#sk-container-id-4 label.sk-toggleable__label-arrow:before {content: \"▸\";float: left;margin-right: 0.25em;color: #696969;}#sk-container-id-4 label.sk-toggleable__label-arrow:hover:before {color: black;}#sk-container-id-4 div.sk-estimator:hover label.sk-toggleable__label-arrow:before {color: black;}#sk-container-id-4 div.sk-toggleable__content {max-height: 0;max-width: 0;overflow: hidden;text-align: left;background-color: #f0f8ff;}#sk-container-id-4 div.sk-toggleable__content pre {margin: 0.2em;color: black;border-radius: 0.25em;background-color: #f0f8ff;}#sk-container-id-4 input.sk-toggleable__control:checked~div.sk-toggleable__content {max-height: 200px;max-width: 100%;overflow: auto;}#sk-container-id-4 input.sk-toggleable__control:checked~label.sk-toggleable__label-arrow:before {content: \"▾\";}#sk-container-id-4 div.sk-estimator input.sk-toggleable__control:checked~label.sk-toggleable__label {background-color: #d4ebff;}#sk-container-id-4 div.sk-label input.sk-toggleable__control:checked~label.sk-toggleable__label {background-color: #d4ebff;}#sk-container-id-4 input.sk-hidden--visually {border: 0;clip: rect(1px 1px 1px 1px);clip: rect(1px, 1px, 1px, 1px);height: 1px;margin: -1px;overflow: hidden;padding: 0;position: absolute;width: 1px;}#sk-container-id-4 div.sk-estimator {font-family: monospace;background-color: #f0f8ff;border: 1px dotted black;border-radius: 0.25em;box-sizing: border-box;margin-bottom: 0.5em;}#sk-container-id-4 div.sk-estimator:hover {background-color: #d4ebff;}#sk-container-id-4 div.sk-parallel-item::after {content: \"\";width: 100%;border-bottom: 1px solid gray;flex-grow: 1;}#sk-container-id-4 div.sk-label:hover label.sk-toggleable__label {background-color: #d4ebff;}#sk-container-id-4 div.sk-serial::before {content: \"\";position: absolute;border-left: 1px solid gray;box-sizing: border-box;top: 0;bottom: 0;left: 50%;z-index: 0;}#sk-container-id-4 div.sk-serial {display: flex;flex-direction: column;align-items: center;background-color: white;padding-right: 0.2em;padding-left: 0.2em;position: relative;}#sk-container-id-4 div.sk-item {position: relative;z-index: 1;}#sk-container-id-4 div.sk-parallel {display: flex;align-items: stretch;justify-content: center;background-color: white;position: relative;}#sk-container-id-4 div.sk-item::before, #sk-container-id-4 div.sk-parallel-item::before {content: \"\";position: absolute;border-left: 1px solid gray;box-sizing: border-box;top: 0;bottom: 0;left: 50%;z-index: -1;}#sk-container-id-4 div.sk-parallel-item {display: flex;flex-direction: column;z-index: 1;position: relative;background-color: white;}#sk-container-id-4 div.sk-parallel-item:first-child::after {align-self: flex-end;width: 50%;}#sk-container-id-4 div.sk-parallel-item:last-child::after {align-self: flex-start;width: 50%;}#sk-container-id-4 div.sk-parallel-item:only-child::after {width: 0;}#sk-container-id-4 div.sk-dashed-wrapped {border: 1px dashed gray;margin: 0 0.4em 0.5em 0.4em;box-sizing: border-box;padding-bottom: 0.4em;background-color: white;}#sk-container-id-4 div.sk-label label {font-family: monospace;font-weight: bold;display: inline-block;line-height: 1.2em;}#sk-container-id-4 div.sk-label-container {text-align: center;}#sk-container-id-4 div.sk-container {/* jupyter's `normalize.less` sets `[hidden] { display: none; }` but bootstrap.min.css set `[hidden] { display: none !important; }` so we also need the `!important` here to be able to override the default hidden behavior on the sphinx rendered scikit-learn.org. See: https://github.com/scikit-learn/scikit-learn/issues/21755 */display: inline-block !important;position: relative;}#sk-container-id-4 div.sk-text-repr-fallback {display: none;}</style><div id=\"sk-container-id-4\" class=\"sk-top-container\"><div class=\"sk-text-repr-fallback\"><pre>Pipeline(steps=[(&#x27;wav2array&#x27;, Wav2Array(sampling_rate=16000)),\n",
              "                (&#x27;array2mfcc&#x27;, Array2Mfcc(sampling_rate=16000)),\n",
              "                (&#x27;final_model&#x27;,\n",
              "                 &lt;mtsa.models.ransyncoders_components.ransyncoders_base.RANSynCodersBase object at 0x7f55f9363b80&gt;)])</pre><b>In a Jupyter environment, please rerun this cell to show the HTML representation or trust the notebook. <br />On GitHub, the HTML representation is unable to render, please try loading this page with nbviewer.org.</b></div><div class=\"sk-container\" hidden><div class=\"sk-item sk-dashed-wrapped\"><div class=\"sk-label-container\"><div class=\"sk-label sk-toggleable\"><input class=\"sk-toggleable__control sk-hidden--visually\" id=\"sk-estimator-id-13\" type=\"checkbox\" ><label for=\"sk-estimator-id-13\" class=\"sk-toggleable__label sk-toggleable__label-arrow\">Pipeline</label><div class=\"sk-toggleable__content\"><pre>Pipeline(steps=[(&#x27;wav2array&#x27;, Wav2Array(sampling_rate=16000)),\n",
              "                (&#x27;array2mfcc&#x27;, Array2Mfcc(sampling_rate=16000)),\n",
              "                (&#x27;final_model&#x27;,\n",
              "                 &lt;mtsa.models.ransyncoders_components.ransyncoders_base.RANSynCodersBase object at 0x7f55f9363b80&gt;)])</pre></div></div></div><div class=\"sk-serial\"><div class=\"sk-item\"><div class=\"sk-estimator sk-toggleable\"><input class=\"sk-toggleable__control sk-hidden--visually\" id=\"sk-estimator-id-14\" type=\"checkbox\" ><label for=\"sk-estimator-id-14\" class=\"sk-toggleable__label sk-toggleable__label-arrow\">Wav2Array</label><div class=\"sk-toggleable__content\"><pre>Wav2Array(sampling_rate=16000)</pre></div></div></div><div class=\"sk-item\"><div class=\"sk-estimator sk-toggleable\"><input class=\"sk-toggleable__control sk-hidden--visually\" id=\"sk-estimator-id-15\" type=\"checkbox\" ><label for=\"sk-estimator-id-15\" class=\"sk-toggleable__label sk-toggleable__label-arrow\">Array2Mfcc</label><div class=\"sk-toggleable__content\"><pre>Array2Mfcc(sampling_rate=16000)</pre></div></div></div><div class=\"sk-item\"><div class=\"sk-estimator sk-toggleable\"><input class=\"sk-toggleable__control sk-hidden--visually\" id=\"sk-estimator-id-16\" type=\"checkbox\" ><label for=\"sk-estimator-id-16\" class=\"sk-toggleable__label sk-toggleable__label-arrow\">RANSynCodersBase</label><div class=\"sk-toggleable__content\"><pre>&lt;mtsa.models.ransyncoders_components.ransyncoders_base.RANSynCodersBase object at 0x7f55f9363b80&gt;</pre></div></div></div></div></div></div></div>"
            ],
            "text/plain": [
              "Pipeline(steps=[('wav2array', Wav2Array(sampling_rate=16000)),\n",
              "                ('array2mfcc', Array2Mfcc(sampling_rate=16000)),\n",
              "                ('final_model',\n",
              "                 <mtsa.models.ransyncoders_components.ransyncoders_base.RANSynCodersBase object at 0x7f55f9363b80>)])"
            ]
          },
          "execution_count": 13,
          "metadata": {},
          "output_type": "execute_result"
        }
      ],
      "source": [
        "from mtsa import RANSynCoders\n",
        "model_ransyncorders = RANSynCoders(is_acoustic_data=True, mono=True, normal_classifier=1, abnormal_classifier=0, synchronize=True)\n",
        "model_ransyncorders.fit(X_train, y_train)"
      ]
    },
    {
      "cell_type": "code",
      "execution_count": 14,
      "metadata": {},
      "outputs": [
        {
          "name": "stderr",
          "output_type": "stream",
          "text": [
            "2024-06-28 09:53:58.160140: I tensorflow/core/common_runtime/executor.cc:1197] [/device:CPU:0] (DEBUG INFO) Executor start aborting (this does not indicate an error and you can ignore this message): INVALID_ARGUMENT: You must feed a value for placeholder tensor 'Placeholder/_1' with dtype float and shape [313,20]\n",
            "\t [[{{node Placeholder/_1}}]]\n",
            "2024-06-28 09:53:58.245603: I tensorflow/core/common_runtime/executor.cc:1197] [/device:CPU:0] (DEBUG INFO) Executor start aborting (this does not indicate an error and you can ignore this message): INVALID_ARGUMENT: You must feed a value for placeholder tensor 'Placeholder/_1' with dtype float and shape [313,20]\n",
            "\t [[{{node Placeholder/_1}}]]\n",
            "2024-06-28 09:53:58.328170: I tensorflow/core/common_runtime/executor.cc:1197] [/device:CPU:0] (DEBUG INFO) Executor start aborting (this does not indicate an error and you can ignore this message): INVALID_ARGUMENT: You must feed a value for placeholder tensor 'Placeholder/_1' with dtype float and shape [313,20]\n",
            "\t [[{{node Placeholder/_1}}]]\n",
            "2024-06-28 09:53:58.408432: I tensorflow/core/common_runtime/executor.cc:1197] [/device:CPU:0] (DEBUG INFO) Executor start aborting (this does not indicate an error and you can ignore this message): INVALID_ARGUMENT: You must feed a value for placeholder tensor 'Placeholder/_1' with dtype float and shape [313,20]\n",
            "\t [[{{node Placeholder/_1}}]]\n",
            "2024-06-28 09:53:58.490248: I tensorflow/core/common_runtime/executor.cc:1197] [/device:CPU:0] (DEBUG INFO) Executor start aborting (this does not indicate an error and you can ignore this message): INVALID_ARGUMENT: You must feed a value for placeholder tensor 'Placeholder/_1' with dtype float and shape [313,20]\n",
            "\t [[{{node Placeholder/_1}}]]\n",
            "2024-06-28 09:53:58.569717: I tensorflow/core/common_runtime/executor.cc:1197] [/device:CPU:0] (DEBUG INFO) Executor start aborting (this does not indicate an error and you can ignore this message): INVALID_ARGUMENT: You must feed a value for placeholder tensor 'Placeholder/_1' with dtype float and shape [313,20]\n",
            "\t [[{{node Placeholder/_1}}]]\n",
            "2024-06-28 09:53:58.654772: I tensorflow/core/common_runtime/executor.cc:1197] [/device:CPU:0] (DEBUG INFO) Executor start aborting (this does not indicate an error and you can ignore this message): INVALID_ARGUMENT: You must feed a value for placeholder tensor 'Placeholder/_1' with dtype float and shape [313,20]\n",
            "\t [[{{node Placeholder/_1}}]]\n",
            "2024-06-28 09:53:58.733616: I tensorflow/core/common_runtime/executor.cc:1197] [/device:CPU:0] (DEBUG INFO) Executor start aborting (this does not indicate an error and you can ignore this message): INVALID_ARGUMENT: You must feed a value for placeholder tensor 'Placeholder/_1' with dtype float and shape [313,20]\n",
            "\t [[{{node Placeholder/_1}}]]\n",
            "2024-06-28 09:53:58.817821: I tensorflow/core/common_runtime/executor.cc:1197] [/device:CPU:0] (DEBUG INFO) Executor start aborting (this does not indicate an error and you can ignore this message): INVALID_ARGUMENT: You must feed a value for placeholder tensor 'Placeholder/_1' with dtype float and shape [313,20]\n",
            "\t [[{{node Placeholder/_1}}]]\n",
            "2024-06-28 09:53:58.901636: I tensorflow/core/common_runtime/executor.cc:1197] [/device:CPU:0] (DEBUG INFO) Executor start aborting (this does not indicate an error and you can ignore this message): INVALID_ARGUMENT: You must feed a value for placeholder tensor 'Placeholder/_1' with dtype float and shape [313,20]\n",
            "\t [[{{node Placeholder/_1}}]]\n"
          ]
        },
        {
          "data": {
            "text/plain": [
              "0.27999999999999997"
            ]
          },
          "execution_count": 14,
          "metadata": {},
          "output_type": "execute_result"
        }
      ],
      "source": [
        "auc = calculate_aucroc(model_ransyncorders, X_test, y_test)\n",
        "auc"
      ]
    }
  ],
  "metadata": {
    "colab": {
      "authorship_tag": "ABX9TyNBZGR2CHjd5DTVJQyBRUus",
      "include_colab_link": true,
      "provenance": []
    },
    "kernelspec": {
      "display_name": "Python 3",
      "language": "python",
      "name": "python3"
    },
    "language_info": {
      "codemirror_mode": {
        "name": "ipython",
        "version": 3
      },
      "file_extension": ".py",
      "mimetype": "text/x-python",
      "name": "python",
      "nbconvert_exporter": "python",
      "pygments_lexer": "ipython3",
      "version": "3.8.10"
    },
    "vscode": {
      "interpreter": {
        "hash": "916dbcbb3f70747c44a77c7bcd40155683ae19c65e1c03b4aa3499c5328201f1"
      }
    }
  },
  "nbformat": 4,
  "nbformat_minor": 0
}
